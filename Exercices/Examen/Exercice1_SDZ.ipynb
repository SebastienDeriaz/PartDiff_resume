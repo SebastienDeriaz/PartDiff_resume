{
 "cells": [
  {
   "cell_type": "markdown",
   "metadata": {},
   "source": [
    "$$y=\\frac{x^2}{2}+c$$\n",
    "$$u(x,y)=f(c)$$"
   ]
  },
  {
   "cell_type": "markdown",
   "metadata": {},
   "source": [
    "$$u(x,y)=f\\left(y-\\frac{x^2}{2}\\right)$$"
   ]
  },
  {
   "cell_type": "markdown",
   "metadata": {},
   "source": [
    "$$\\frac{\\partial u}{\\partial x}+x\\frac{\\partial u}{\\partial y}=2x(1+y)$$"
   ]
  },
  {
   "cell_type": "markdown",
   "metadata": {},
   "source": [
    "$$\\frac{\\partial f}{\\partial x}\\cdot(-x)+x\\frac{\\partial f}{\\partial y}\\cdot 1=2x(1+y)$$"
   ]
  },
  {
   "cell_type": "markdown",
   "metadata": {},
   "source": [
    "$$u\\left(x,\\frac{x^2}{2}+c\\right)=C$$\n",
    "\n",
    "$$\\frac{u}{\\partial x}+x\\frac{\\partial u}{\\partial \\frac{x^2}{2}+c}=2x(1+y)$$"
   ]
  }
 ],
 "metadata": {
  "language_info": {
   "name": "python"
  },
  "orig_nbformat": 4
 },
 "nbformat": 4,
 "nbformat_minor": 2
}
